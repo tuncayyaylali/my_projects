{
 "cells": [
  {
   "cell_type": "markdown",
   "source": [
    "# Project 1"
   ],
   "metadata": {
    "collapsed": false,
    "pycharm": {
     "name": "#%% md\n"
    }
   }
  },
  {
   "cell_type": "markdown",
   "source": [
    "## Kütüphanelerin Yüklenmesi"
   ],
   "metadata": {
    "collapsed": false,
    "pycharm": {
     "name": "#%% md\n"
    }
   }
  },
  {
   "cell_type": "code",
   "execution_count": 21,
   "outputs": [],
   "source": [
    "import pandas as pd"
   ],
   "metadata": {
    "collapsed": false,
    "pycharm": {
     "name": "#%%\n"
    }
   }
  },
  {
   "cell_type": "markdown",
   "source": [
    "## Dersin Belirlenmesi (Matematik, Fizik, Lineer Cebir vb.)."
   ],
   "metadata": {
    "collapsed": false,
    "pycharm": {
     "name": "#%% md\n"
    }
   }
  },
  {
   "cell_type": "code",
   "execution_count": 22,
   "outputs": [
    {
     "name": "stdout",
     "output_type": "stream",
     "text": [
      "Dersler:\n",
      "Matematik\n",
      "Fizik\n",
      "Kimya\n",
      "Edebiyat\n",
      "Coğrafya\n",
      "Yabancı Dil\n"
     ]
    }
   ],
   "source": [
    "dersler = [\"Matematik\",\"Fizik\", \"Kimya\", \"Edebiyat\",\"Coğrafya\", \"Yabancı Dil\"]\n",
    "print(\"Dersler:\")\n",
    "for i in dersler:\n",
    "    print(i)"
   ],
   "metadata": {
    "collapsed": false,
    "pycharm": {
     "name": "#%%\n"
    }
   }
  },
  {
   "cell_type": "code",
   "execution_count": 23,
   "outputs": [
    {
     "name": "stdout",
     "output_type": "stream",
     "text": [
      "Seçilen Ders: Yabancı Dil\n"
     ]
    }
   ],
   "source": [
    "ders = input(\"Yukarıdaki listeden bir ders seçiniz: \")\n",
    "while ders not in dersler:\n",
    "    ders = input(\"Yukarıdaki listeden bir ders seçiniz: \")\n",
    "print(f\"Seçilen Ders: {ders}\")"
   ],
   "metadata": {
    "collapsed": false,
    "pycharm": {
     "name": "#%%\n"
    }
   }
  },
  {
   "cell_type": "markdown",
   "source": [
    "## Not Aralığı"
   ],
   "metadata": {
    "collapsed": false,
    "pycharm": {
     "name": "#%% md\n"
    }
   }
  },
  {
   "cell_type": "code",
   "execution_count": 24,
   "outputs": [],
   "source": [
    "def harf_notu_hesaplama(ders_notu):\n",
    "    if ders_notu >= 90:\n",
    "        return 'AA'\n",
    "    elif ders_notu >=85:\n",
    "        return 'BA'\n",
    "    elif ders_notu >=80:\n",
    "        return 'BB'\n",
    "    elif ders_notu >=75:\n",
    "        return 'CB'\n",
    "    elif ders_notu >=70:\n",
    "        return 'CC'\n",
    "    elif ders_notu >=65:\n",
    "        return 'DC'\n",
    "    elif ders_notu >=60:\n",
    "        return 'DD'\n",
    "    elif ders_notu >=50:\n",
    "        return 'FD'\n",
    "    elif ders_notu >=0:\n",
    "        return 'FF'\n",
    "    else:\n",
    "        return 'NA'"
   ],
   "metadata": {
    "collapsed": false,
    "pycharm": {
     "name": "#%%\n"
    }
   }
  },
  {
   "cell_type": "markdown",
   "source": [
    "## Öğrenci Bilgi Sistemi"
   ],
   "metadata": {
    "collapsed": false,
    "pycharm": {
     "name": "#%% md\n"
    }
   }
  },
  {
   "cell_type": "code",
   "execution_count": 25,
   "outputs": [],
   "source": [
    "obs_dataframe = {\"Ders\":[],\"Adi\":[],\"Soyadi\":[],\"Okul_Numarasi\":[],\"Ders_Notu\":[], \"Harf_Notu\":[],\"Basari_Durumu\":[]}\n",
    "df = pd.DataFrame(obs_dataframe)"
   ],
   "metadata": {
    "collapsed": false,
    "pycharm": {
     "name": "#%%\n"
    }
   }
  },
  {
   "cell_type": "code",
   "execution_count": 30,
   "outputs": [],
   "source": [
    "class Ogrenci():\n",
    "    def __init__(self, adi, soyadi, okul_numarasi, ders_notu):\n",
    "        self.adi = adi\n",
    "        self.soyadi = soyadi\n",
    "        self.okul_numarasi = okul_numarasi\n",
    "        self.ders_notu = ders_notu\n",
    "        harf_notu = harf_notu_hesaplama(self.ders_notu)\n",
    "        self.harf_notu = harf_notu\n",
    "        if harf_notu == 'NA' or harf_notu == 'FF':\n",
    "            self.basari_durumu = \"Kaldı\"\n",
    "        else:\n",
    "            self.basari_durumu = \"Geçti\"\n",
    "\n",
    "\n",
    "    def __Ogrenci_Bilgileri__(self):\n",
    "        print(f\"Ders: {ders}\")\n",
    "        print(f\"Öğrenci Adı: {self.adi}\")\n",
    "        print(f\"Öğrenci Soyadı: {self.soyadi}\")\n",
    "        print(f\"Öğrenci Okul Numarası: {self.okul_numarasi}\")\n",
    "        print(f\"Öğrenci Ders Notu: {self.ders_notu}\")\n",
    "        print(f\"Öğrenci Harf Notu: {self.harf_notu}\")\n",
    "        print(f\"Öğrenci Başarı Durumu: {self.basari_durumu}\\n\")\n",
    "\n",
    "\n",
    "    def __Veritabani_Kayit_Ekleme__(self):\n",
    "        df.loc[len(df.index)] = [ders, self.adi, self.soyadi, self.okul_numarasi, self.ders_notu, self.harf_notu, self.basari_durumu]"
   ],
   "metadata": {
    "collapsed": false,
    "pycharm": {
     "name": "#%%\n"
    }
   }
  },
  {
   "cell_type": "markdown",
   "source": [
    "## Öğrenci Bilgileri ve Başarı Durumu"
   ],
   "metadata": {
    "collapsed": false,
    "pycharm": {
     "name": "#%% md\n"
    }
   }
  },
  {
   "cell_type": "code",
   "execution_count": 31,
   "outputs": [
    {
     "name": "stdout",
     "output_type": "stream",
     "text": [
      "Döngüden çıkmak için Adı kutucuğuna quit yazınız.\n",
      "Ders: Yabancı Dil\n",
      "Öğrenci Adı: Tuncay\n",
      "Öğrenci Soyadı: YAYLALI\n",
      "Öğrenci Okul Numarası: 117\n",
      "Öğrenci Ders Notu: 100\n",
      "Öğrenci Harf Notu: AA\n",
      "Öğrenci Başarı Durumu: Geçti\n",
      "\n"
     ]
    }
   ],
   "source": [
    "print(\"Döngüden çıkmak için Adı kutucuğuna quit yazınız.\")\n",
    "while True:\n",
    "    adi = input(\"Öğrenci Adı: \")\n",
    "    if adi ==\"quit\":\n",
    "        break\n",
    "    soyadi = input(\"Öğrenci Soyadı: \")\n",
    "    okul_numarasi = input(\"Öğrenci Okul Numarası: \")\n",
    "    ders_notu = int(input(\"Öğrenci Ders Notu: \"))\n",
    "    ogrenci = Ogrenci(adi, soyadi, okul_numarasi, ders_notu)\n",
    "    ogrenci.__Ogrenci_Bilgileri__()\n",
    "    ogrenci.__Veritabani_Kayit_Ekleme__()"
   ],
   "metadata": {
    "collapsed": false,
    "pycharm": {
     "name": "#%%\n"
    }
   }
  },
  {
   "cell_type": "markdown",
   "source": [
    "## Ders Geçme Durumuna Göre Veri Setinin Gösterilmesi"
   ],
   "metadata": {
    "collapsed": false,
    "pycharm": {
     "name": "#%% md\n"
    }
   }
  },
  {
   "cell_type": "code",
   "execution_count": 33,
   "outputs": [],
   "source": [
    "filtre = input(\"Veri setini filtrelemek istediğiniz başarı durumunu giriniz (Geçti veya Kaldı): \")\n",
    "while filtre not in [\"Geçti\", \"Kaldı\"]:\n",
    "    filtre = input(\"Veri setini filtrelemek istediğiniz başarı durumunu giriniz (Geçti veya Kaldı): \")"
   ],
   "metadata": {
    "collapsed": false,
    "pycharm": {
     "name": "#%%\n"
    }
   }
  },
  {
   "cell_type": "code",
   "execution_count": 37,
   "outputs": [
    {
     "data": {
      "text/plain": "          Ders      Adi   Soyadi Okul_Numarasi  Ders_Notu Harf_Notu  \\\n0  Yabancı Dil   Tuncay  YAYLALI           117       99.0        AA   \n1  Yabancı Dil  Yasemin  YAYLALI           118       98.0        AA   \n2  Yabancı Dil   Tuncay  YAYLALI           117      100.0        AA   \n\n  Basari_Durumu  \n0         Geçti  \n1         Geçti  \n2         Geçti  ",
      "text/html": "<div>\n<style scoped>\n    .dataframe tbody tr th:only-of-type {\n        vertical-align: middle;\n    }\n\n    .dataframe tbody tr th {\n        vertical-align: top;\n    }\n\n    .dataframe thead th {\n        text-align: right;\n    }\n</style>\n<table border=\"1\" class=\"dataframe\">\n  <thead>\n    <tr style=\"text-align: right;\">\n      <th></th>\n      <th>Ders</th>\n      <th>Adi</th>\n      <th>Soyadi</th>\n      <th>Okul_Numarasi</th>\n      <th>Ders_Notu</th>\n      <th>Harf_Notu</th>\n      <th>Basari_Durumu</th>\n    </tr>\n  </thead>\n  <tbody>\n    <tr>\n      <th>0</th>\n      <td>Yabancı Dil</td>\n      <td>Tuncay</td>\n      <td>YAYLALI</td>\n      <td>117</td>\n      <td>99.0</td>\n      <td>AA</td>\n      <td>Geçti</td>\n    </tr>\n    <tr>\n      <th>1</th>\n      <td>Yabancı Dil</td>\n      <td>Yasemin</td>\n      <td>YAYLALI</td>\n      <td>118</td>\n      <td>98.0</td>\n      <td>AA</td>\n      <td>Geçti</td>\n    </tr>\n    <tr>\n      <th>2</th>\n      <td>Yabancı Dil</td>\n      <td>Tuncay</td>\n      <td>YAYLALI</td>\n      <td>117</td>\n      <td>100.0</td>\n      <td>AA</td>\n      <td>Geçti</td>\n    </tr>\n  </tbody>\n</table>\n</div>"
     },
     "execution_count": 37,
     "metadata": {},
     "output_type": "execute_result"
    }
   ],
   "source": [
    "df.loc[df['Basari_Durumu'] == filtre]"
   ],
   "metadata": {
    "collapsed": false,
    "pycharm": {
     "name": "#%%\n"
    }
   }
  },
  {
   "cell_type": "code",
   "execution_count": null,
   "outputs": [],
   "source": [
    "df.to_excel(\"obs.xlsx\")"
   ],
   "metadata": {
    "collapsed": false,
    "pycharm": {
     "name": "#%%\n"
    }
   }
  }
 ],
 "metadata": {
  "kernelspec": {
   "display_name": "Python 3",
   "language": "python",
   "name": "python3"
  },
  "language_info": {
   "codemirror_mode": {
    "name": "ipython",
    "version": 2
   },
   "file_extension": ".py",
   "mimetype": "text/x-python",
   "name": "python",
   "nbconvert_exporter": "python",
   "pygments_lexer": "ipython2",
   "version": "2.7.6"
  }
 },
 "nbformat": 4,
 "nbformat_minor": 0
}
